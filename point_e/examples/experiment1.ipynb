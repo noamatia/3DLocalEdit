{
 "cells": [
  {
   "cell_type": "code",
   "execution_count": 1,
   "metadata": {},
   "outputs": [
    {
     "name": "stderr",
     "output_type": "stream",
     "text": [
      "/home/noamatia/miniconda3/envs/point-e/lib/python3.10/site-packages/tqdm/auto.py:21: TqdmWarning: IProgress not found. Please update jupyter and ipywidgets. See https://ipywidgets.readthedocs.io/en/stable/user_install.html\n",
      "  from .autonotebook import tqdm as notebook_tqdm\n"
     ]
    }
   ],
   "source": [
    "import os\n",
    "import torch\n",
    "import shutil\n",
    "from tqdm.auto import tqdm\n",
    "from matplotlib import pyplot as plt\n",
    "from point_e.util.plotting import plot_point_cloud\n",
    "from point_e.models.download import load_checkpoint\n",
    "from point_e.diffusion.sampler import PointCloudSampler\n",
    "from point_e.models.configs import MODEL_CONFIGS, model_from_config\n",
    "from point_e.diffusion.configs import DIFFUSION_CONFIGS, diffusion_from_config"
   ]
  },
  {
   "cell_type": "code",
   "execution_count": 2,
   "metadata": {},
   "outputs": [
    {
     "data": {
      "text/plain": [
       "<All keys matched successfully>"
      ]
     },
     "execution_count": 2,
     "metadata": {},
     "output_type": "execute_result"
    }
   ],
   "source": [
    "device = torch.device('cuda' if torch.cuda.is_available() else 'cpu')\n",
    "base_name = 'base40M-textvec'\n",
    "base_model = model_from_config(MODEL_CONFIGS[base_name], device)\n",
    "base_model.eval()\n",
    "base_diffusion = diffusion_from_config(DIFFUSION_CONFIGS[base_name])\n",
    "base_model.load_state_dict(load_checkpoint(base_name, device))"
   ]
  },
  {
   "cell_type": "code",
   "execution_count": 3,
   "metadata": {},
   "outputs": [],
   "source": [
    "sampler = PointCloudSampler(\n",
    "    device=device,\n",
    "    models=[base_model],\n",
    "    diffusions=[base_diffusion],\n",
    "    num_points=[1024],\n",
    "    aux_channels=['R', 'G', 'B'],\n",
    "    guidance_scale=[3.0],\n",
    "    model_kwargs_key_filter=['texts'], \n",
    ")"
   ]
  },
  {
   "cell_type": "code",
   "execution_count": 9,
   "metadata": {},
   "outputs": [],
   "source": [
    "experimental_ts = [30, 35, 40, 45]\n",
    "prompt_pairs = [('a chair', 'an armchair'),\n",
    "                ('a chair', 'a chair with long legs'),\n",
    "                ('a chair', 'a chair with a square backrest'),\n",
    "                ('a chair', 'a chair with a thich seat'),\n",
    "                ('an office chair', 'an office chair with wheels'),]"
   ]
  },
  {
   "cell_type": "code",
   "execution_count": 10,
   "metadata": {},
   "outputs": [],
   "source": [
    "def plot_pc(sampler, samples, j, output_dir, experimental_t, prompt):\n",
    "    pc = sampler.output_to_point_clouds(samples)[j]\n",
    "    fig = plot_point_cloud(pc, color=False)\n",
    "    fig.savefig(os.path.join(output_dir, f'{experimental_t}_{prompt.replace(\" \", \"_\")}.png'))\n",
    "    plt.close()"
   ]
  },
  {
   "cell_type": "code",
   "execution_count": 11,
   "metadata": {},
   "outputs": [
    {
     "name": "stderr",
     "output_type": "stream",
     "text": [
      "65it [00:14,  4.53it/s]\n",
      "65it [00:12,  5.13it/s]\n",
      "65it [00:11,  5.62it/s]\n",
      "65it [00:10,  6.10it/s]\n",
      "65it [00:13,  4.70it/s]\n",
      "65it [00:12,  5.30it/s]\n",
      "65it [00:11,  5.44it/s]\n",
      "65it [00:10,  6.30it/s]\n"
     ]
    }
   ],
   "source": [
    "html = \"<table>\\n\"\n",
    "for prompt1, prompt2 in prompt_pairs:\n",
    "    for experimental_t in experimental_ts:\n",
    "        for i in range(10):\n",
    "            sampler.experimental_t = experimental_t\n",
    "            output_dir = os.path.join('experiment1', f'{prompt1.replace(\" \", \"_\")}_{prompt2.replace(\" \", \"_\")}_{i}')\n",
    "            os.makedirs(output_dir, exist_ok=True)\n",
    "            samples = None\n",
    "            for x in tqdm(sampler.sample_batch_progressive(batch_size=2, model_kwargs=dict(texts=[prompt1, prompt2]))):\n",
    "                samples = x\n",
    "            for j, prompt in zip(range(2), [prompt1, prompt2]):\n",
    "                plot_pc(sampler, samples, j, output_dir, experimental_t, prompt)\n",
    "            for file in os.listdir('experimental_sampler'):\n",
    "                shutil.move(os.path.join('experimental_sampler', file), \n",
    "                            os.path.join(output_dir, file))\n",
    "            col1 = f'{prompt1} (t={experimental_t})'\n",
    "            col3 = f'{prompt2} (t={experimental_t})'\n",
    "            col2 = f'{prompt1} (t={experimental_t})'\n",
    "            col4 = f'{prompt2} (t={experimental_t})'\n",
    "            html += f'<tr><td><font size=\"5\">{col1}</font></td><td><font size=\"5\">{col2}</font></td><td><font size=\"5\">{col3}</font></td><td><font size=\"5\">{col4}</font></td></tr>\\n'\n",
    "            col1_src = f'{output_dir}/{experimental_t}_{prompt1.replace(\" \", \"_\")}.png'\n",
    "            col3_src = f'{output_dir}/{experimental_t}_{prompt2.replace(\" \", \"_\")}.png'\n",
    "            col2_src = f'{output_dir}/{experimental_t}_movie_0.gif'\n",
    "            col4_src = f'{output_dir}/{experimental_t}_movie_1.gif'\n",
    "            html += f\"<tr><td><img src='{col1_src}'></td><td><img src='{col2_src}'></td><td><img src='{col3_src}'></td><td><img src='{col4_src}'></td></tr>\\n\"\n",
    "html += \"</table>\"\n",
    "with open('output.html', 'w') as f:\n",
    "    f.write(html)"
   ]
  }
 ],
 "metadata": {
  "kernelspec": {
   "display_name": "Python 3.9.9 64-bit ('3.9.9')",
   "language": "python",
   "name": "python3"
  },
  "language_info": {
   "codemirror_mode": {
    "name": "ipython",
    "version": 3
   },
   "file_extension": ".py",
   "mimetype": "text/x-python",
   "name": "python",
   "nbconvert_exporter": "python",
   "pygments_lexer": "ipython3",
   "version": "3.10.14"
  },
  "orig_nbformat": 4,
  "vscode": {
   "interpreter": {
    "hash": "b270b0f43bc427bcab7703c037711644cc480aac7c1cc8d2940cfaf0b447ee2e"
   }
  }
 },
 "nbformat": 4,
 "nbformat_minor": 2
}
